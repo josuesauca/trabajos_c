{
 "metadata": {
  "language_info": {
   "codemirror_mode": {
    "name": "ipython",
    "version": 3
   },
   "file_extension": ".py",
   "mimetype": "text/x-python",
   "name": "python",
   "nbconvert_exporter": "python",
   "pygments_lexer": "ipython3",
   "version": "3.7.6-final"
  },
  "orig_nbformat": 2,
  "kernelspec": {
   "name": "python3",
   "display_name": "Python 3"
  }
 },
 "nbformat": 4,
 "nbformat_minor": 2,
 "cells": [
  {
   "cell_type": "code",
   "execution_count": 9,
   "metadata": {},
   "outputs": [],
   "source": [
    "import random\n",
    "import os\n",
    "\n",
    "\n",
    "def crea_tablero(fil,col,val):\n",
    "\n",
    "\n",
    "    tablero = []\n",
    "\n",
    "    for i in range(fil):\n",
    "        tablero.append([])\n",
    "        for j in rang(col):\n",
    "            tablero[i].append(val)\n",
    "    return tablero\n",
    "\n"
   ]
  }
 ]
}